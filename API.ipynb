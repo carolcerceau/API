{
  "nbformat": 4,
  "nbformat_minor": 0,
  "metadata": {
    "colab": {
      "provenance": [],
      "authorship_tag": "ABX9TyMvRRWw1nQzot+RsSVJm2SH",
      "include_colab_link": true
    },
    "kernelspec": {
      "name": "python3",
      "display_name": "Python 3"
    },
    "language_info": {
      "name": "python"
    }
  },
  "cells": [
    {
      "cell_type": "markdown",
      "metadata": {
        "id": "view-in-github",
        "colab_type": "text"
      },
      "source": [
        "<a href=\"https://colab.research.google.com/github/carolcerceau/API/blob/main/API.ipynb\" target=\"_parent\"><img src=\"https://colab.research.google.com/assets/colab-badge.svg\" alt=\"Open In Colab\"/></a>"
      ]
    },
    {
      "cell_type": "code",
      "execution_count": 2,
      "metadata": {
        "colab": {
          "base_uri": "https://localhost:8080/"
        },
        "id": "Y3gtE2T370Li",
        "outputId": "96778cad-cbd8-4d18-9504-f3cd1ebb2c14"
      },
      "outputs": [
        {
          "output_type": "execute_result",
          "data": {
            "text/plain": [
              "{'cep': '30330330',\n",
              " 'address_type': 'Rua',\n",
              " 'address_name': 'Campo Belo',\n",
              " 'address': 'Rua Campo Belo',\n",
              " 'state': 'MG',\n",
              " 'district': 'São Pedro',\n",
              " 'lat': '-19.9483914',\n",
              " 'lng': '-43.9372048',\n",
              " 'city': 'Belo Horizonte',\n",
              " 'city_ibge': '3106200',\n",
              " 'ddd': '31'}"
            ]
          },
          "metadata": {},
          "execution_count": 2
        }
      ],
      "source": [
        "#consulta de CEP\n",
        "\n",
        "import requests\n",
        "\n",
        "res=requests.get('https://cep.awesomeapi.com.br/json/30330330')\n",
        "\n",
        "res.json() #como o json é um dicionário, vc pode escolher a informação que quer ver, ex ['city']"
      ]
    },
    {
      "cell_type": "code",
      "source": [
        "#consulta de CEPs\n",
        "\n",
        "import requests\n",
        "\n",
        "res=requests.get('https://cep.awesomeapi.com.br/json/30140008')\n",
        "print(res)\n",
        "print(res.status_code)\n",
        "\n",
        "#codigos de retorno:\n",
        "# 1xx - informação\n",
        "# 2xx - sucesso\n",
        "# 3xx - redirecionar\n",
        "# 4xx - erro cliente\n",
        "# 5xx - erro servidor"
      ],
      "metadata": {
        "colab": {
          "base_uri": "https://localhost:8080/"
        },
        "id": "tts08xwcAQuF",
        "outputId": "b92711e0-e379-4d75-994d-a8ef0edb1dca"
      },
      "execution_count": 3,
      "outputs": [
        {
          "output_type": "stream",
          "name": "stdout",
          "text": [
            "<Response [200]>\n",
            "200\n"
          ]
        }
      ]
    },
    {
      "cell_type": "code",
      "source": [
        "#consulta de CEPs\n",
        "\n",
        "import requests\n",
        "\n",
        "res=requests.get('https://cep.awesomeapi.com.br/json/30140008')\n",
        "\n",
        "if(res):\n",
        "  print('Sucesso')\n",
        "else:\n",
        "  print('Erro')\n"
      ],
      "metadata": {
        "colab": {
          "base_uri": "https://localhost:8080/"
        },
        "id": "v7ihhULuA_Kt",
        "outputId": "a298091d-1ad5-417c-b60b-47d030b52553"
      },
      "execution_count": 9,
      "outputs": [
        {
          "output_type": "stream",
          "name": "stdout",
          "text": [
            "Sucesso\n"
          ]
        }
      ]
    },
    {
      "cell_type": "code",
      "source": [
        "#obter a última cotação de moedas\n",
        "\n",
        "import requests\n",
        "\n",
        "res=requests.get('https://economia.awesomeapi.com.br/last/USD-BRL,EUR-BRL,BTC-BRL')\n",
        "\n",
        "print(res.text)\n",
        "print(res.json()['USDBRL']['bid'])"
      ],
      "metadata": {
        "colab": {
          "base_uri": "https://localhost:8080/"
        },
        "id": "KYCV9NFxB3WN",
        "outputId": "e7c44041-d931-40d0-c2e8-add3d149d314"
      },
      "execution_count": 11,
      "outputs": [
        {
          "output_type": "stream",
          "name": "stdout",
          "text": [
            "{\"USDBRL\":{\"code\":\"USD\",\"codein\":\"BRL\",\"name\":\"Dólar Americano/Real Brasileiro\",\"high\":\"5.572\",\"low\":\"5.51252\",\"varBid\":\"0.04833\",\"pctChange\":\"0.876086\",\"bid\":\"5.5649\",\"ask\":\"5.5679\",\"timestamp\":\"1753471253\",\"create_date\":\"2025-07-25 16:20:53\"},\"EURBRL\":{\"code\":\"EUR\",\"codein\":\"BRL\",\"name\":\"Euro/Real Brasileiro\",\"high\":\"6.53595\",\"low\":\"6.45995\",\"varBid\":\"0.042335\",\"pctChange\":\"0.65281\",\"bid\":\"6.52742\",\"ask\":\"6.5445\",\"timestamp\":\"1753470926\",\"create_date\":\"2025-07-25 16:15:26\"},\"BTCBRL\":{\"code\":\"BTC\",\"codein\":\"BRL\",\"name\":\"Bitcoin/Real Brasileiro\",\"high\":\"659988\",\"low\":\"637175\",\"varBid\":\"-9493\",\"pctChange\":\"-1.438\",\"bid\":\"650495\",\"ask\":\"650496\",\"timestamp\":\"1753471251\",\"create_date\":\"2025-07-25 16:20:51\"}}\n",
            "5.5649\n"
          ]
        }
      ]
    },
    {
      "cell_type": "code",
      "source": [
        "#consultando uma lista de CEPs através da API ViaCEP\n",
        "\n",
        "import requests\n",
        "url='httpe://viacep.com.br/ws/'\n",
        "lista_ceps=['30140001', '3014000', '30140004', '30140005', '30140007', '30140008']\n",
        "formato ='/json/'\n",
        "\n",
        "for cep in lista_ceps:\n",
        "  r=requests.get(url + cep + formato)\n",
        "  if(r):\n",
        "    print()\n",
        "    print('CEP:', cep)\n",
        "    print('JSON:', r.text)\n",
        "    print()\n",
        "  else:\n",
        "    print('Não Houve sucesso na requisição. CEP: ', cep)\n"
      ],
      "metadata": {
        "colab": {
          "base_uri": "https://localhost:8080/"
        },
        "id": "CXWrQ-zNCMux",
        "outputId": "1120d693-08ad-476f-c804-8a28399978ad"
      },
      "execution_count": 16,
      "outputs": [
        {
          "output_type": "stream",
          "name": "stdout",
          "text": [
            "\n",
            "CEP: 30140001\n",
            "JSON: {\n",
            "  \"cep\": \"30140-001\",\n",
            "  \"logradouro\": \"Avenida Brasil\",\n",
            "  \"complemento\": \"até 980 - lado par\",\n",
            "  \"unidade\": \"\",\n",
            "  \"bairro\": \"Santa Efigênia\",\n",
            "  \"localidade\": \"Belo Horizonte\",\n",
            "  \"uf\": \"MG\",\n",
            "  \"estado\": \"Minas Gerais\",\n",
            "  \"regiao\": \"Sudeste\",\n",
            "  \"ibge\": \"3106200\",\n",
            "  \"gia\": \"\",\n",
            "  \"ddd\": \"31\",\n",
            "  \"siafi\": \"4123\"\n",
            "}\n",
            "\n",
            "Não Houve sucesso na requisição. CEP:  3014000\n",
            "\n",
            "CEP: 30140004\n",
            "JSON: {\n",
            "  \"cep\": \"30140-004\",\n",
            "  \"logradouro\": \"Avenida Brasil\",\n",
            "  \"complemento\": \"de 1542 a 1800 - lado par\",\n",
            "  \"unidade\": \"\",\n",
            "  \"bairro\": \"Boa Viagem\",\n",
            "  \"localidade\": \"Belo Horizonte\",\n",
            "  \"uf\": \"MG\",\n",
            "  \"estado\": \"Minas Gerais\",\n",
            "  \"regiao\": \"Sudeste\",\n",
            "  \"ibge\": \"3106200\",\n",
            "  \"gia\": \"\",\n",
            "  \"ddd\": \"31\",\n",
            "  \"siafi\": \"4123\"\n",
            "}\n",
            "\n",
            "\n",
            "CEP: 30140005\n",
            "JSON: {\n",
            "  \"cep\": \"30140-005\",\n",
            "  \"logradouro\": \"Avenida Brasil\",\n",
            "  \"complemento\": \"de 1351 a 1599 - lado ímpar\",\n",
            "  \"unidade\": \"\",\n",
            "  \"bairro\": \"Savassi\",\n",
            "  \"localidade\": \"Belo Horizonte\",\n",
            "  \"uf\": \"MG\",\n",
            "  \"estado\": \"Minas Gerais\",\n",
            "  \"regiao\": \"Sudeste\",\n",
            "  \"ibge\": \"3106200\",\n",
            "  \"gia\": \"\",\n",
            "  \"ddd\": \"31\",\n",
            "  \"siafi\": \"4123\"\n",
            "}\n",
            "\n",
            "\n",
            "CEP: 30140007\n",
            "JSON: {\n",
            "  \"cep\": \"30140-007\",\n",
            "  \"logradouro\": \"Avenida Brasil\",\n",
            "  \"complemento\": \"de 1601 a 1779 - lado ímpar\",\n",
            "  \"unidade\": \"\",\n",
            "  \"bairro\": \"Boa Viagem\",\n",
            "  \"localidade\": \"Belo Horizonte\",\n",
            "  \"uf\": \"MG\",\n",
            "  \"estado\": \"Minas Gerais\",\n",
            "  \"regiao\": \"Sudeste\",\n",
            "  \"ibge\": \"3106200\",\n",
            "  \"gia\": \"\",\n",
            "  \"ddd\": \"31\",\n",
            "  \"siafi\": \"4123\"\n",
            "}\n",
            "\n",
            "\n",
            "CEP: 30140008\n",
            "JSON: {\n",
            "  \"cep\": \"30140-008\",\n",
            "  \"logradouro\": \"Avenida Brasil\",\n",
            "  \"complemento\": \"de 1781 ao fim - lado ímpar\",\n",
            "  \"unidade\": \"\",\n",
            "  \"bairro\": \"Savassi\",\n",
            "  \"localidade\": \"Belo Horizonte\",\n",
            "  \"uf\": \"MG\",\n",
            "  \"estado\": \"Minas Gerais\",\n",
            "  \"regiao\": \"Sudeste\",\n",
            "  \"ibge\": \"3106200\",\n",
            "  \"gia\": \"\",\n",
            "  \"ddd\": \"31\",\n",
            "  \"siafi\": \"4123\"\n",
            "}\n",
            "\n"
          ]
        }
      ]
    },
    {
      "cell_type": "code",
      "source": [
        "#exemplo: obter o fechamento do dolar nos ultimos 30 dias\n",
        "\n",
        "import requests\n",
        "import pandas as pd\n",
        "import datetime\n",
        "import matplotlib.pyplot as plt\n",
        "\n",
        "res=requests.get('https://economia.awesomeapi.com.br/json/daily/USD-BRL/30')\n",
        "cotacoes=res.json()\n",
        "cotacoes"
      ],
      "metadata": {
        "colab": {
          "base_uri": "https://localhost:8080/"
        },
        "id": "IQFxFSUNJpDR",
        "outputId": "95c4c062-b0d8-4b66-deef-c01d289656a0"
      },
      "execution_count": 19,
      "outputs": [
        {
          "output_type": "execute_result",
          "data": {
            "text/plain": [
              "[{'code': 'USD',\n",
              "  'codein': 'BRL',\n",
              "  'name': 'Dólar Americano/Real Brasileiro',\n",
              "  'high': '5.572',\n",
              "  'low': '5.51252',\n",
              "  'varBid': '0.04563',\n",
              "  'pctChange': '0.827143',\n",
              "  'bid': '5.5622',\n",
              "  'ask': '5.5652',\n",
              "  'timestamp': '1753469028',\n",
              "  'create_date': '2025-07-25 15:43:48'},\n",
              " {'high': '5.537',\n",
              "  'low': '5.50763',\n",
              "  'varBid': '0.000068',\n",
              "  'pctChange': '0.001233',\n",
              "  'bid': '5.51657',\n",
              "  'ask': '5.53092',\n",
              "  'timestamp': '1753401516'},\n",
              " {'high': '5.5765',\n",
              "  'low': '5.5076',\n",
              "  'varBid': '-0.04412',\n",
              "  'pctChange': '-0.793434',\n",
              "  'bid': '5.5165',\n",
              "  'ask': '5.5195',\n",
              "  'timestamp': '1753315128'},\n",
              " {'high': '5.5878',\n",
              "  'low': '5.54491',\n",
              "  'varBid': '-0.005182',\n",
              "  'pctChange': '-0.093108',\n",
              "  'bid': '5.56062',\n",
              "  'ask': '5.57518',\n",
              "  'timestamp': '1753228723'},\n",
              " {'high': '5.6031',\n",
              "  'low': '5.54778',\n",
              "  'varBid': '-0.01008',\n",
              "  'pctChange': '-0.18078',\n",
              "  'bid': '5.5658',\n",
              "  'ask': '5.5688',\n",
              "  'timestamp': '1753142393'},\n",
              " {'high': '5.579',\n",
              "  'low': '5.57136',\n",
              "  'varBid': '0.000381',\n",
              "  'pctChange': '0.006833',\n",
              "  'bid': '5.57588',\n",
              "  'ask': '5.59038',\n",
              "  'timestamp': '1753055808'},\n",
              " {'high': '5.5969',\n",
              "  'low': '5.5231',\n",
              "  'varBid': '0.0269',\n",
              "  'pctChange': '0.484803',\n",
              "  'bid': '5.5755',\n",
              "  'ask': '5.5855',\n",
              "  'timestamp': '1752873374'},\n",
              " {'high': '5.6083',\n",
              "  'low': '5.53089',\n",
              "  'varBid': '-0.01437',\n",
              "  'pctChange': '-0.258318',\n",
              "  'bid': '5.5486',\n",
              "  'ask': '5.5516',\n",
              "  'timestamp': '1752796692'},\n",
              " {'high': '5.5916',\n",
              "  'low': '5.54031',\n",
              "  'varBid': '0.007074',\n",
              "  'pctChange': '0.127322',\n",
              "  'bid': '5.56297',\n",
              "  'ask': '5.57741',\n",
              "  'timestamp': '1752710317'},\n",
              " {'high': '5.6005',\n",
              "  'low': '5.53353',\n",
              "  'varBid': '-0.02475',\n",
              "  'pctChange': '-0.443494',\n",
              "  'bid': '5.5559',\n",
              "  'ask': '5.5589',\n",
              "  'timestamp': '1752623951'},\n",
              " {'high': '5.594',\n",
              "  'low': '5.53931',\n",
              "  'varBid': '0.014512',\n",
              "  'pctChange': '0.260716',\n",
              "  'bid': '5.58065',\n",
              "  'ask': '5.59522',\n",
              "  'timestamp': '1752537257'},\n",
              " {'high': '5.5689',\n",
              "  'low': '5.55664',\n",
              "  'varBid': '0.009243',\n",
              "  'pctChange': '0.166333',\n",
              "  'bid': '5.56614',\n",
              "  'ask': '5.58066',\n",
              "  'timestamp': '1752450985'},\n",
              " {'high': '5.5904',\n",
              "  'low': '5.52032',\n",
              "  'varBid': '0.02917',\n",
              "  'pctChange': '0.527703',\n",
              "  'bid': '5.5569',\n",
              "  'ask': '5.5669',\n",
              "  'timestamp': '1752269202'},\n",
              " {'high': '5.6179',\n",
              "  'low': '5.52132',\n",
              "  'varBid': '-0.049886',\n",
              "  'pctChange': '-0.894396',\n",
              "  'bid': '5.52773',\n",
              "  'ask': '5.54207',\n",
              "  'timestamp': '1752191993'},\n",
              " {'high': '5.6037',\n",
              "  'low': '5.43852',\n",
              "  'varBid': '0.131622',\n",
              "  'pctChange': '2.41686',\n",
              "  'bid': '5.57762',\n",
              "  'ask': '5.59226',\n",
              "  'timestamp': '1752105530'},\n",
              " {'high': '5.4899',\n",
              "  'low': '5.42826',\n",
              "  'varBid': '-0.0409',\n",
              "  'pctChange': '-0.745409',\n",
              "  'bid': '5.446',\n",
              "  'ask': '5.449',\n",
              "  'timestamp': '1752019149'},\n",
              " {'high': '5.4905',\n",
              "  'low': '5.41188',\n",
              "  'varBid': '0.06954',\n",
              "  'pctChange': '1.28365',\n",
              "  'bid': '5.4869',\n",
              "  'ask': '5.4899',\n",
              "  'timestamp': '1751932776'},\n",
              " {'high': '5.4226',\n",
              "  'low': '5.41247',\n",
              "  'varBid': '0.003758',\n",
              "  'pctChange': '0.069418',\n",
              "  'bid': '5.41736',\n",
              "  'ask': '5.43122',\n",
              "  'timestamp': '1751846188'},\n",
              " {'high': '5.425',\n",
              "  'low': '5.39493',\n",
              "  'varBid': '0.0058',\n",
              "  'pctChange': '0.107249',\n",
              "  'bid': '5.4136',\n",
              "  'ask': '5.4236',\n",
              "  'timestamp': '1751664267'},\n",
              " {'high': '5.4451',\n",
              "  'low': '5.37668',\n",
              "  'varBid': '-0.0187',\n",
              "  'pctChange': '-0.344602',\n",
              "  'bid': '5.4078',\n",
              "  'ask': '5.4108',\n",
              "  'timestamp': '1751587113'},\n",
              " {'high': '5.4874',\n",
              "  'low': '5.40953',\n",
              "  'varBid': '-0.031',\n",
              "  'pctChange': '-0.568025',\n",
              "  'bid': '5.4265',\n",
              "  'ask': '5.4295',\n",
              "  'timestamp': '1751500738'},\n",
              " {'high': '5.4705',\n",
              "  'low': '5.4167',\n",
              "  'varBid': '0.0273',\n",
              "  'pctChange': '0.502742',\n",
              "  'bid': '5.4575',\n",
              "  'ask': '5.4605',\n",
              "  'timestamp': '1751414367'},\n",
              " {'high': '5.5072',\n",
              "  'low': '5.41883',\n",
              "  'varBid': '-0.04266',\n",
              "  'pctChange': '-0.77948',\n",
              "  'bid': '5.4302',\n",
              "  'ask': '5.4332',\n",
              "  'timestamp': '1751323471'},\n",
              " {'high': '5.4794',\n",
              "  'low': '5.47104',\n",
              "  'varBid': '-0.001642',\n",
              "  'pctChange': '-0.029997',\n",
              "  'bid': '5.47286',\n",
              "  'ask': '5.48695',\n",
              "  'timestamp': '1751241084'},\n",
              " {'high': '5.5019',\n",
              "  'low': '5.45684',\n",
              "  'varBid': '-0.0063',\n",
              "  'pctChange': '-0.114949',\n",
              "  'bid': '5.4745',\n",
              "  'ask': '5.4845',\n",
              "  'timestamp': '1751058943'},\n",
              " {'high': '5.5619',\n",
              "  'low': '5.46885',\n",
              "  'varBid': '-0.0696',\n",
              "  'pctChange': '-1.25396',\n",
              "  'bid': '5.4808',\n",
              "  'ask': '5.4838',\n",
              "  'timestamp': '1750982373'},\n",
              " {'high': '5.5685',\n",
              "  'low': '5.50179',\n",
              "  'varBid': '0.040097',\n",
              "  'pctChange': '0.727671',\n",
              "  'bid': '5.5504',\n",
              "  'ask': '5.56483',\n",
              "  'timestamp': '1750895926'},\n",
              " {'high': '5.5231',\n",
              "  'low': '5.47359',\n",
              "  'varBid': '0.0172',\n",
              "  'pctChange': '0.313117',\n",
              "  'bid': '5.5103',\n",
              "  'ask': '5.5133',\n",
              "  'timestamp': '1750808364'},\n",
              " {'high': '5.5638',\n",
              "  'low': '5.48469',\n",
              "  'varBid': '-0.01805',\n",
              "  'pctChange': '-0.327516',\n",
              "  'bid': '5.4931',\n",
              "  'ask': '5.4961',\n",
              "  'timestamp': '1750723191'},\n",
              " {'high': '5.5184',\n",
              "  'low': '5.50541',\n",
              "  'varBid': '0.003052',\n",
              "  'pctChange': '0.055409',\n",
              "  'bid': '5.51115',\n",
              "  'ask': '5.52516',\n",
              "  'timestamp': '1750636760'}]"
            ]
          },
          "metadata": {},
          "execution_count": 19
        }
      ]
    },
    {
      "cell_type": "code",
      "source": [
        "#exemplo: plotando um gráfico com o fechamento do dólar dos ultimos 30 dias\n",
        "\n",
        "df=pd.DataFrame(cotacoes)\n",
        "df['bid']=pd.to_numeric(df['bid'])\n",
        "df['data']=pd.to_datetime(df['timestamp'], unit='s')\n",
        "\n",
        "plt.ylabel('Cotação')\n",
        "plt.xlabel('Data')\n",
        "plt.xticks(rotation='vertical')\n",
        "\n",
        "plt.plot(df['data'], df['bid'])"
      ],
      "metadata": {
        "colab": {
          "base_uri": "https://localhost:8080/",
          "height": 587
        },
        "id": "mLgDG17lMXRl",
        "outputId": "65b4eb99-2164-49c4-cc6f-cff1b579ccc1"
      },
      "execution_count": 20,
      "outputs": [
        {
          "output_type": "stream",
          "name": "stderr",
          "text": [
            "/tmp/ipython-input-20-2276614942.py:5: FutureWarning: The behavior of 'to_datetime' with 'unit' when parsing strings is deprecated. In a future version, strings will be parsed as datetime strings, matching the behavior without a 'unit'. To retain the old behavior, explicitly cast ints or floats to numeric type before calling to_datetime.\n",
            "  df['data']=pd.to_datetime(df['timestamp'], unit='s')\n"
          ]
        },
        {
          "output_type": "execute_result",
          "data": {
            "text/plain": [
              "[<matplotlib.lines.Line2D at 0x781958837f10>]"
            ]
          },
          "metadata": {},
          "execution_count": 20
        },
        {
          "output_type": "display_data",
          "data": {
            "text/plain": [
              "<Figure size 640x480 with 1 Axes>"
            ],
            "image/png": "[encoded data removed]"
          },
          "metadata": {}
        }
      ]
    },
    {
      "cell_type": "code",
      "source": [
        "#exemplo: plotando um grafico com o fechamento do Dolar e Euro nos ultimos 30 dias\n",
        "\n",
        "import requests\n",
        "import pandas as pd\n",
        "import datetime\n",
        "import matplotlib.pyplot as plt\n",
        "\n",
        "res = requests.get('https://economia.awesomeapi.com.br/json/daily/USD-BRL/30')\n",
        "cotacoesUSD = res.json()\n",
        "cotacoesUSD\n",
        "df_USD = pd.DataFrame(cotacoesUSD)\n",
        "df_USD['bid'] = pd.to_numeric(df_USD['bid'])\n",
        "df_USD['data'] = pd.to_datetime(df_USD['timestamp'], unit ='s')\n",
        "df_USD\n",
        "\n",
        "res = requests.get('https://economia.awesomeapi.com.br/json/daily/EUR-BRL/30')\n",
        "cotacoesEUR = res.json()\n",
        "cotacoesEUR\n",
        "df_EUR = pd.DataFrame(cotacoesEUR)\n",
        "df_EUR['bid'] = pd.to_numeric(df_EUR['bid'])\n",
        "df_EUR['data'] = pd.to_datetime(df_EUR['timestamp'], unit ='s')\n",
        "df_EUR\n",
        "\n",
        "plt.ylabel(\"Cotação\")\n",
        "plt.xlabel(\"Data\")\n",
        "plt.xticks(rotation = 'vertical')\n",
        "plt.plot(df_USD['data'], df_USD['bid'], label = \"Dólar\")\n",
        "plt.plot(df_EUR['data'], df_EUR['bid'], label = \"Euro\");\n",
        "plt.legend();\n"
      ],
      "metadata": {
        "colab": {
          "base_uri": "https://localhost:8080/",
          "height": 609
        },
        "id": "X_rw1CE4NLgU",
        "outputId": "c6b111e1-4dbb-4dce-ff5f-868a8c0e7002"
      },
      "execution_count": 21,
      "outputs": [
        {
          "output_type": "stream",
          "name": "stderr",
          "text": [
            "/tmp/ipython-input-21-1863341237.py:13: FutureWarning: The behavior of 'to_datetime' with 'unit' when parsing strings is deprecated. In a future version, strings will be parsed as datetime strings, matching the behavior without a 'unit'. To retain the old behavior, explicitly cast ints or floats to numeric type before calling to_datetime.\n",
            "  df_USD['data'] = pd.to_datetime(df_USD['timestamp'], unit ='s')\n",
            "/tmp/ipython-input-21-1863341237.py:21: FutureWarning: The behavior of 'to_datetime' with 'unit' when parsing strings is deprecated. In a future version, strings will be parsed as datetime strings, matching the behavior without a 'unit'. To retain the old behavior, explicitly cast ints or floats to numeric type before calling to_datetime.\n",
            "  df_EUR['data'] = pd.to_datetime(df_EUR['timestamp'], unit ='s')\n"
          ]
        },
        {
          "output_type": "display_data",
          "data": {
            "text/plain": [
              "<Figure size 640x480 with 1 Axes>"
            ],
            "image/png": "[encoded data removed]"
          },
          "metadata": {}
        }
      ]
    }
  ]
}